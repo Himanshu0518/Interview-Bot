{
 "cells": [
  {
   "cell_type": "code",
   "execution_count": 1,
   "id": "a32c3b27",
   "metadata": {},
   "outputs": [],
   "source": [
    "# Use Google-genai "
   ]
  },
  {
   "cell_type": "code",
   "execution_count": 3,
   "id": "e48747da",
   "metadata": {},
   "outputs": [],
   "source": [
    "from langchain_google_genai import ChatGoogleGenerativeAI\n",
    "from dotenv import load_dotenv\n",
    "import os"
   ]
  },
  {
   "cell_type": "code",
   "execution_count": 4,
   "id": "176dd66b",
   "metadata": {},
   "outputs": [
    {
     "data": {
      "text/plain": [
       "True"
      ]
     },
     "execution_count": 4,
     "metadata": {},
     "output_type": "execute_result"
    }
   ],
   "source": [
    "load_dotenv()"
   ]
  },
  {
   "cell_type": "code",
   "execution_count": 5,
   "id": "8edd5f5d",
   "metadata": {},
   "outputs": [],
   "source": [
    "model = ChatGoogleGenerativeAI(model=\"gemini-1.5-flash\",api_key=os.getenv(\"GOOGLE_API_KEY\"))"
   ]
  },
  {
   "cell_type": "code",
   "execution_count": 6,
   "id": "4d60a1e2",
   "metadata": {},
   "outputs": [],
   "source": [
    "promt = \"Best Way To learn GenAI\"\n",
    "pred = model.invoke(promt)"
   ]
  },
  {
   "cell_type": "code",
   "execution_count": 7,
   "id": "516d211a",
   "metadata": {},
   "outputs": [
    {
     "name": "stdout",
     "output_type": "stream",
     "text": [
      "content='There\\'s no single \"best\" way, as learning about Generative AI depends on your background, goals, and learning style. However, a multi-faceted approach is generally most effective.  Here\\'s a breakdown of strategies, categorized for clarity:\\n\\n**I. Foundational Knowledge:**\\n\\n* **Mathematics:**  A solid grasp of linear algebra (vectors, matrices), probability, and statistics is crucial for understanding the underlying mechanisms of many GenAI models.  Khan Academy, 3Blue1Brown (YouTube), and MIT OpenCourseware are excellent resources.  The level of math needed depends on how deeply you want to delve; a basic understanding is sufficient for many applications.\\n\\n* **Programming:** Python is the dominant language in the GenAI field.  Learn the basics (data structures, control flow, functions) and then focus on libraries like NumPy, Pandas, and TensorFlow/PyTorch.  Numerous online courses (Codecademy, Coursera, edX) and tutorials are available.\\n\\n* **Machine Learning Fundamentals:**  Understand core concepts like supervised learning, unsupervised learning, reinforcement learning, and neural networks.  Andrew Ng\\'s Machine Learning course on Coursera is a popular and excellent starting point.\\n\\n**II. Generative AI Specifics:**\\n\\n* **Online Courses:**  Platforms like Coursera, edX, fast.ai, and Udacity offer courses on various aspects of Generative AI, including specific model architectures (GANs, VAEs, Transformers).  Look for courses that cover both theoretical understanding and practical application.\\n\\n* **Tutorials and Documentation:**  The official documentation for libraries like TensorFlow, PyTorch, and Hugging Face Transformers is invaluable.  Many excellent tutorials are available on YouTube and websites like Towards Data Science.\\n\\n* **Focus on Model Architectures:**  Familiarize yourself with key architectures:\\n    * **GANs (Generative Adversarial Networks):**  Learn how generators and discriminators work together.\\n    * **VAEs (Variational Autoencoders):**  Understand latent space representation and reconstruction.\\n    * **Transformers:**  Grasp the attention mechanism and its role in processing sequential data (text, time series).  This is particularly important for large language models.\\n    * **Diffusion Models:**  Understand the process of gradually adding noise and then denoising to generate samples.\\n\\n* **Hands-on Projects:**  The best way to solidify your understanding is by building things.  Start with small projects, gradually increasing complexity.  Experiment with pre-trained models and fine-tune them for specific tasks.  Hugging Face\\'s model hub is a great resource for pre-trained models.\\n\\n**III.  Advanced Topics (Optional, but highly beneficial):**\\n\\n* **Deep Learning Research Papers:**  Reading research papers will expose you to the latest advancements and cutting-edge techniques.  Start with survey papers or tutorials that explain complex papers in simpler terms.  arXiv is a good source for research papers.\\n\\n* **Contributing to Open Source Projects:**  Contributing to open-source projects related to GenAI is a fantastic way to learn from experienced developers and contribute to the community.\\n\\n**IV. Resources to Consider:**\\n\\n* **Hugging Face:**  A central hub for pre-trained models, datasets, and community resources.\\n* **Papers with Code:**  Connects research papers to their implementations.\\n* **TensorFlow and PyTorch websites:**  Official documentation and tutorials.\\n* **YouTube channels:**  Many excellent channels offer tutorials and explanations of GenAI concepts.\\n\\n\\n**Learning Path Suggestion (Beginner):**\\n\\n1. **Python Basics:**  Get comfortable with the language.\\n2. **Machine Learning Fundamentals:**  Understand core concepts.\\n3. **Introduction to Neural Networks:**  Learn about basic neural network architectures.\\n4. **GANs or VAEs:**  Choose one architecture to focus on initially.  Implement a simple project.\\n5. **Transformers:**  Learn about the attention mechanism and its applications.\\n6. **Large Language Models (LLMs):**  Explore how LLMs work and their applications.\\n7. **Advanced Topics (Optional):**  Dive deeper into research papers and contribute to open-source projects.\\n\\n\\nRemember to be patient and persistent.  Generative AI is a rapidly evolving field, so continuous learning is key.  Focus on building a strong foundation, and gradually expand your knowledge and skills.' additional_kwargs={} response_metadata={'prompt_feedback': {'block_reason': 0, 'safety_ratings': []}, 'finish_reason': 'STOP', 'model_name': 'gemini-1.5-flash', 'safety_ratings': []} id='run--7dae9e8f-5177-4b66-a1bd-a119fe0483af-0' usage_metadata={'input_tokens': 6, 'output_tokens': 909, 'total_tokens': 915, 'input_token_details': {'cache_read': 0}}\n"
     ]
    }
   ],
   "source": [
    "print(pred)"
   ]
  },
  {
   "cell_type": "code",
   "execution_count": 14,
   "id": "4007b877",
   "metadata": {},
   "outputs": [],
   "source": [
    "from langchain_community.document_loaders import PyPDFLoader , Docx2txtLoader , TextLoader\n",
    "from langchain.prompts import PromptTemplate"
   ]
  },
  {
   "cell_type": "code",
   "execution_count": null,
   "id": "d460e88b",
   "metadata": {},
   "outputs": [],
   "source": []
  }
 ],
 "metadata": {
  "kernelspec": {
   "display_name": "base",
   "language": "python",
   "name": "python3"
  },
  "language_info": {
   "codemirror_mode": {
    "name": "ipython",
    "version": 3
   },
   "file_extension": ".py",
   "mimetype": "text/x-python",
   "name": "python",
   "nbconvert_exporter": "python",
   "pygments_lexer": "ipython3",
   "version": "3.13.2"
  }
 },
 "nbformat": 4,
 "nbformat_minor": 5
}
